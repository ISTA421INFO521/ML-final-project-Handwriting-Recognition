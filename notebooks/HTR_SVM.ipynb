{
  "cells": [
    {
      "cell_type": "code",
      "execution_count": null,
      "metadata": {
        "colab": {
          "base_uri": "https://localhost:8080/"
        },
        "id": "5PUzvzocuPrj",
        "outputId": "991e1b3a-7df8-4481-cc5c-07d9b8031817"
      },
      "outputs": [
        {
          "name": "stdout",
          "output_type": "stream",
          "text": [
            "Mounted at /content/drive\n"
          ]
        }
      ],
      "source": [
        "from google.colab import drive\n",
        "drive.mount('/content/drive')\n"
      ]
    },
    {
      "cell_type": "code",
      "execution_count": null,
      "metadata": {
        "id": "cd9G-qDmueHV"
      },
      "outputs": [],
      "source": [
        "%%capture\n",
        "!cp -r /content/drive/MyDrive/521\\ ML\\ \\ final\\ project/dataset/iam/compressed /\n",
        "!rm -r /words\n",
        "!mkdir -p /words\n",
        "!tar xvzf /compressed/words.tgz -C /words\n",
        "!rm -r /lines\n",
        "!mkdir -p /lines\n",
        "!tar xvzf /compressed/lines.tgz -C /lines\n",
        "!rm -r /forms\n",
        "!mkdir -p /forms\n",
        "!tar xvzf /compressed/formsA-D.tgz -C /forms\n",
        "!tar xvzf /compressed/formsE-H.tgz -C /forms\n",
        "!tar xvzf /compressed/formsI-Z.tgz -C /forms\n",
        "!rm -r /words_label\n",
        "!mkdir -p /words_label\n",
        "!tar xvzf /compressed/ascii.tgz -C /words_label\n",
        "!rm -r /xml\n",
        "!mkdir -p /xml\n",
        "!tar xvzf /compressed/xml.tgz -C /xml\n"
      ]
    },
    {
      "cell_type": "code",
      "execution_count": null,
      "metadata": {
        "id": "oHmaTEH9yHps"
      },
      "outputs": [],
      "source": [
        "base_path = \"/words_label\"\n",
        "words_list = []\n",
        "\n",
        "words = open(f\"{base_path}/words.txt\", \"r\").readlines()\n",
        "for line in words:\n",
        "    if line[0] == \"#\":\n",
        "        continue\n",
        "    if line.split(\" \")[1] != \"err\": \n",
        "        words_list.append(line)\n",
        "\n",
        "len(words_list)\n",
        "words_list = words_list[0:100]"
      ]
    },
    {
      "cell_type": "code",
      "execution_count": null,
      "metadata": {
        "id": "n59M23mCyhN1"
      },
      "outputs": [],
      "source": [
        "import matplotlib.pyplot as plt\n",
        "import numpy as np\n",
        "import os\n",
        "import cv2\n",
        "import matplotlib.pyplot as plt\n"
      ]
    },
    {
      "cell_type": "code",
      "execution_count": null,
      "metadata": {
        "id": "RswKuNvTyVoE"
      },
      "outputs": [],
      "source": [
        "np.random.seed(2022)\n"
      ]
    },
    {
      "cell_type": "code",
      "execution_count": null,
      "metadata": {
        "colab": {
          "base_uri": "https://localhost:8080/"
        },
        "id": "T7pkcOUgykNp",
        "outputId": "d61505c8-5958-48d8-a05d-504636bb37f0"
      },
      "outputs": [
        {
          "output_type": "execute_result",
          "data": {
            "text/plain": [
              "((array([[[249, 249, 249],\n",
              "          [249, 249, 249],\n",
              "          [249, 249, 249],\n",
              "          ...,\n",
              "          [251, 251, 251],\n",
              "          [251, 251, 251],\n",
              "          [251, 251, 251]],\n",
              "  \n",
              "         [[249, 249, 249],\n",
              "          [249, 249, 249],\n",
              "          [249, 249, 249],\n",
              "          ...,\n",
              "          [251, 251, 251],\n",
              "          [251, 251, 251],\n",
              "          [251, 251, 251]],\n",
              "  \n",
              "         [[249, 249, 249],\n",
              "          [249, 249, 249],\n",
              "          [249, 249, 249],\n",
              "          ...,\n",
              "          [251, 251, 251],\n",
              "          [251, 251, 251],\n",
              "          [251, 251, 251]],\n",
              "  \n",
              "         ...,\n",
              "  \n",
              "         [[152, 152, 152],\n",
              "          [152, 152, 152],\n",
              "          [154, 154, 154],\n",
              "          ...,\n",
              "          [241, 241, 241],\n",
              "          [241, 241, 241],\n",
              "          [241, 241, 241]],\n",
              "  \n",
              "         [[161, 161, 161],\n",
              "          [161, 161, 161],\n",
              "          [163, 163, 163],\n",
              "          ...,\n",
              "          [242, 242, 242],\n",
              "          [242, 242, 242],\n",
              "          [242, 242, 242]],\n",
              "  \n",
              "         [[163, 163, 163],\n",
              "          [163, 163, 163],\n",
              "          [165, 165, 165],\n",
              "          ...,\n",
              "          [242, 242, 242],\n",
              "          [242, 242, 242],\n",
              "          [242, 242, 242]]], dtype=uint8), 'A'), 100)"
            ]
          },
          "metadata": {},
          "execution_count": 108
        }
      ],
      "source": [
        "IMAGE_SIZE = (128,128)\n",
        "from skimage.filters import sobel \n",
        "from numpy.lib.type_check import imag\n",
        "base_image_path = os.path.join(base_path, \"/words\")\n",
        "def get_images_and_labels(samples):\n",
        "    data = []\n",
        "    for (i, file_line) in enumerate(samples):\n",
        "        line_split = file_line.strip()\n",
        "        line_split = line_split.split(\" \")\n",
        "\n",
        "        # Each line split will have this format for the corresponding image:\n",
        "        # part1/part1-part2/part1-part2-part3.png\n",
        "        image_name = line_split[0]\n",
        "        partI = image_name.split(\"-\")[0]\n",
        "        partII = image_name.split(\"-\")[1]\n",
        "        img_path = os.path.join(\n",
        "            base_image_path, partI, partI + \"-\" + partII, image_name + \".png\"\n",
        "        )\n",
        "        if os.path.getsize(img_path):\n",
        "            img = cv2.imread(img_path,cv2.IMREAD_COLOR)\n",
        "            resized_img = cv2.resize(img,IMAGE_SIZE)\n",
        "            # image_array = np.array(resized_img).flatten()\n",
        "            label = file_line.split(\"\\n\")[0].split(\" \")[-1].strip()\n",
        "            data.append((resized_img,label))\n",
        "    return data\n",
        "  \n",
        "data = get_images_and_labels(words_list)\n",
        "data[0],len(data)"
      ]
    },
    {
      "cell_type": "code",
      "execution_count": null,
      "metadata": {
        "id": "XEpb57bezg6N"
      },
      "outputs": [],
      "source": [
        "import pickle\n",
        "data_pickle = '/data.pickle'\n",
        "pick_in_write = open(data_pickle,'wb')\n",
        "pickle.dump(data,pick_in_write)\n",
        "pick_in_write.close()"
      ]
    },
    {
      "cell_type": "code",
      "execution_count": null,
      "metadata": {
        "id": "Hdnqd7b81ouP"
      },
      "outputs": [],
      "source": [
        "pick_in_read = open(data_pickle,'rb')\n",
        "data=pickle.load(pick_in_read)\n",
        "pick_in_read.close()"
      ]
    },
    {
      "cell_type": "code",
      "execution_count": null,
      "metadata": {
        "id": "XmTyZ7XK2bn8"
      },
      "outputs": [],
      "source": [
        "import random\n",
        "random.shuffle(data)"
      ]
    },
    {
      "cell_type": "code",
      "execution_count": null,
      "metadata": {
        "id": "PqdtXlD2gAjS"
      },
      "outputs": [],
      "source": [
        "# char_list = set()\n",
        "# for feature,label in data:\n",
        "#   for char in label:\n",
        "#     char_list.add(char)\n",
        "# char_list = list(char_list)"
      ]
    },
    {
      "cell_type": "code",
      "execution_count": null,
      "metadata": {
        "colab": {
          "base_uri": "https://localhost:8080/"
        },
        "id": "1r42cApS2hIC",
        "outputId": "5ace8613-5c89-4e65-c195-211873079c72"
      },
      "outputs": [
        {
          "output_type": "execute_result",
          "data": {
            "text/plain": [
              "array([23,  3, 49, 44, 18, 45, 22,  7, 17, 23, 21, 12,  1, 50,  8,  5, 12,\n",
              "       46, 51, 33, 21,  6,  6,  0, 41, 31, 13, 27, 35, 34,  2, 18, 30, 36,\n",
              "       50, 48, 20, 25, 15,  4, 13, 40,  9, 32, 29, 10, 26, 39, 50, 38, 20,\n",
              "       24, 48, 14, 46,  0, 10, 33, 18,  1, 38, 14,  7, 37, 50, 43, 37, 19,\n",
              "       45, 27, 12, 31, 34,  5, 40,  9,  3, 18, 50, 25, 26, 12, 28, 23, 43,\n",
              "       42, 11, 18, 16,  1, 42,  7, 40, 31,  7, 41, 39,  2, 47,  0])"
            ]
          },
          "metadata": {},
          "execution_count": 112
        }
      ],
      "source": [
        "# def encode_to_labels(txt):\n",
        "#     # encoding each output word into digits\n",
        "#     dig_lst = []\n",
        "#     for index, chara in enumerate(txt):\n",
        "#         dig_lst.append(char_list.index(chara))\n",
        "        \n",
        "#     return dig_lst\n",
        "\n",
        "features = []\n",
        "tmp_labels =[]\n",
        "for feature,label in data:\n",
        "    features.append(feature)\n",
        "    # tmp_labels.append(encode_to_labels(label))\n",
        "    tmp_labels.append(label)\n",
        "\n",
        "features = np.array(features)\n",
        "labels = np.array(tmp_labels)\n",
        "\n",
        "from sklearn import preprocessing\n",
        "le = preprocessing.LabelEncoder()\n",
        "le.fit(labels)\n",
        "labels_encoded = le.transform(labels)\n",
        "\n",
        "# from sklearn.preprocessing import MultiLabelBinarizer\n",
        "# labels_encoded = MultiLabelBinarizer().fit_transform(tmp_labels)\n",
        "\n",
        "\n",
        "# from sklearn.preprocessing import LabelEncoder\n",
        "# # import pandas as pd\n",
        "# # df = pd.DataFrame(tmp_labels,columns=['labels'])\n",
        "# le = LabelEncoder()\n",
        "# le.fit(labels)\n",
        "# labels_encoded = le.transform(labels)\n",
        "# labels_encoded[0],labels[0],features[0]\n",
        "# df['final_label']= le.fit_transform(df)\n",
        "# labels = df['final_label'].to_list()\n",
        "features[0],labels[0],data[0][1]\n",
        "labels_encoded"
      ]
    },
    {
      "cell_type": "code",
      "execution_count": null,
      "metadata": {
        "colab": {
          "base_uri": "https://localhost:8080/"
        },
        "id": "K3zNfxaUQRFe",
        "outputId": "35eb9347-e3b3-4d75-cbd6-e15df447f04b"
      },
      "outputs": [
        {
          "output_type": "execute_result",
          "data": {
            "text/plain": [
              "386"
            ]
          },
          "metadata": {},
          "execution_count": 113
        }
      ],
      "source": [
        "# del data\n",
        "import gc\n",
        "\n",
        "gc.collect()"
      ]
    },
    {
      "cell_type": "code",
      "execution_count": null,
      "metadata": {
        "id": "i6MLUdjF2tkS"
      },
      "outputs": [],
      "source": [
        "from sklearn.model_selection import train_test_split"
      ]
    },
    {
      "cell_type": "code",
      "execution_count": null,
      "metadata": {
        "id": "cwaLfpyO3pky"
      },
      "outputs": [],
      "source": [
        "x_train,x_test,y_train,y_test = train_test_split(features,labels_encoded,test_size=.1)"
      ]
    },
    {
      "cell_type": "code",
      "execution_count": null,
      "metadata": {
        "colab": {
          "base_uri": "https://localhost:8080/"
        },
        "id": "5Pbm1SZOqFkL",
        "outputId": "da686f57-e759-4989-8b3d-7715c516fd5f"
      },
      "outputs": [
        {
          "output_type": "execute_result",
          "data": {
            "text/plain": [
              "31"
            ]
          },
          "metadata": {},
          "execution_count": 116
        }
      ],
      "source": [
        "y_train[0]"
      ]
    },
    {
      "cell_type": "code",
      "execution_count": null,
      "metadata": {
        "id": "cFPW9tHwL7yG"
      },
      "outputs": [],
      "source": [
        "x_train,x_test = x_train/255.0,x_test/255.0\n"
      ]
    },
    {
      "cell_type": "code",
      "execution_count": null,
      "metadata": {
        "id": "dWP9Mq2hMJRc"
      },
      "outputs": [],
      "source": [
        "import pandas as pd\n",
        "def feature_extractor(dataset):\n",
        "    x_train = dataset\n",
        "    image_dataset = pd.DataFrame()\n",
        "    for image in range(x_train.shape[0]):  #iterate through each file \n",
        "        df = pd.DataFrame()  #Temporary data frame to capture information for each loop.\n",
        "        #Reset dataframe to blank after each loop.\n",
        "        input_img = x_train[image, :,:,:]\n",
        "        img = input_img\n",
        "    #Add feature extractors, e.g. edge detection, smoothing, etc.             \n",
        "         # FEATURE 1 - Pixel values\n",
        "        #Add pixel values to the data frame\n",
        "        pixel_values = img.reshape(-1)\n",
        "        df['Pixel_Value'] = pixel_values   #Pixel value itself as a feature        \n",
        "        # FEATURE 2 - Bunch of Gabor filter responses\n",
        "                #Generate Gabor features\n",
        "        num = 1  #To count numbers up in order to give Gabor features a lable in the data frame\n",
        "        kernels = []\n",
        "        for theta in range(2):   #Define number of thetas\n",
        "            theta = theta / 4. * np.pi\n",
        "            for sigma in (1, 3):  #Sigma with 1 and 3\n",
        "                lamda = np.pi/4\n",
        "                gamma = 0.5\n",
        "                gabor_label = 'Gabor' + str(num)  #Label Gabor columns as Gabor1, Gabor2, etc.\n",
        "    #                print(gabor_label)\n",
        "                ksize=9\n",
        "                kernel = cv2.getGaborKernel((ksize, ksize), sigma, theta, lamda, gamma, 0, ktype=cv2.CV_32F)    \n",
        "                kernels.append(kernel)\n",
        "                #Now filter the image and add values to a new column \n",
        "                fimg = cv2.filter2D(img, cv2.CV_8UC3, kernel)\n",
        "                filtered_img = fimg.reshape(-1)\n",
        "                df[gabor_label] = filtered_img  #Labels columns as Gabor1, Gabor2, etc.\n",
        "                print(gabor_label, ': theta=', theta, ': sigma=', sigma, ': lamda=', lamda, ': gamma=', gamma)\n",
        "                num += 1  #Increment for gabor column label\n",
        "                \n",
        "         \n",
        "        # FEATURE 3 Sobel\n",
        "#        edge_sobel = sobel(img)\n",
        "#        edge_sobel1 = edge_sobel.reshape(-1)\n",
        "#        df['Sobel'] = edge_sobel1\n",
        "        image_dataset = image_dataset.append(df)\n",
        "    return image_dataset\n"
      ]
    },
    {
      "cell_type": "code",
      "execution_count": null,
      "metadata": {
        "id": "oTo5vRjRNKT0"
      },
      "outputs": [],
      "source": [
        "%%capture\n",
        "image_features = feature_extractor(x_train)\n",
        "n_features = image_features.shape[1]\n",
        "image_features = np.expand_dims(image_features, axis=0)\n",
        "X_for_SVM = np.reshape(image_features, (x_train.shape[0], -1))  #Reshape to #images, features\n"
      ]
    },
    {
      "cell_type": "code",
      "execution_count": null,
      "metadata": {
        "colab": {
          "base_uri": "https://localhost:8080/"
        },
        "id": "0622Zcp4NXL9",
        "outputId": "6fa82829-44ef-4c4f-c13d-a8cfd141881c"
      },
      "outputs": [
        {
          "output_type": "execute_result",
          "data": {
            "text/plain": [
              "(90, 128, 128, 3)"
            ]
          },
          "metadata": {},
          "execution_count": 120
        }
      ],
      "source": [
        "x_train.shape"
      ]
    },
    {
      "cell_type": "code",
      "execution_count": null,
      "metadata": {
        "colab": {
          "base_uri": "https://localhost:8080/"
        },
        "id": "pgkbYGT2tdTK",
        "outputId": "14b33221-293d-488a-f2c9-8da71cd9fb2f"
      },
      "outputs": [
        {
          "output_type": "execute_result",
          "data": {
            "text/plain": [
              "(90,)"
            ]
          },
          "metadata": {},
          "execution_count": 121
        }
      ],
      "source": [
        "y_train.shape"
      ]
    },
    {
      "cell_type": "code",
      "execution_count": null,
      "metadata": {
        "id": "-L1xkW_54DQX"
      },
      "outputs": [],
      "source": [
        "from sklearn.svm import SVC\n",
        "from sklearn.metrics import accuracy_score\n",
        "from sklearn.metrics import f1_score\n"
      ]
    },
    {
      "cell_type": "code",
      "execution_count": null,
      "metadata": {
        "id": "tbhJB73x4SSf"
      },
      "outputs": [],
      "source": [
        "RF_model= SVC(decision_function_shape='ovo')"
      ]
    },
    {
      "cell_type": "code",
      "execution_count": null,
      "metadata": {
        "colab": {
          "base_uri": "https://localhost:8080/"
        },
        "id": "CeD_EH6G4bPa",
        "outputId": "4926dbc5-a3be-42d1-bea5-cef1fdb01535"
      },
      "outputs": [
        {
          "output_type": "execute_result",
          "data": {
            "text/plain": [
              "SVC(decision_function_shape='ovo')"
            ]
          },
          "metadata": {},
          "execution_count": 124
        }
      ],
      "source": [
        "RF_model.fit(X_for_SVM,y_train)"
      ]
    },
    {
      "cell_type": "code",
      "execution_count": null,
      "metadata": {
        "id": "AbmhCBF7N2Lu"
      },
      "outputs": [],
      "source": [
        "%%capture\n",
        "test_features = feature_extractor(x_test)\n",
        "test_features = np.expand_dims(test_features, axis=0)\n",
        "test_for_SVM = np.reshape(test_features, (x_test.shape[0], -1))"
      ]
    },
    {
      "cell_type": "code",
      "execution_count": null,
      "metadata": {
        "id": "0Yuf9yr04hno"
      },
      "outputs": [],
      "source": [
        "test_prediction = RF_model.predict(test_for_SVM)"
      ]
    },
    {
      "cell_type": "code",
      "execution_count": null,
      "metadata": {
        "id": "Qpn7qY-XOBcN"
      },
      "outputs": [],
      "source": [
        "#Inverse le transform to get original label back. \n",
        "test_prediction = le.inverse_transform(test_prediction)"
      ]
    },
    {
      "cell_type": "code",
      "execution_count": null,
      "metadata": {
        "colab": {
          "base_uri": "https://localhost:8080/"
        },
        "id": "F5MSdM0PODf2",
        "outputId": "b031c224-d604-4b25-f24a-4ff292404e0f"
      },
      "outputs": [
        {
          "output_type": "stream",
          "name": "stdout",
          "text": [
            "Accuracy =  0.0\n",
            "F1 (Polynomial Kernel):  10.00\n"
          ]
        },
        {
          "output_type": "stream",
          "name": "stderr",
          "text": [
            "/usr/local/lib/python3.7/dist-packages/sklearn/metrics/_classification.py:217: FutureWarning: elementwise comparison failed; returning scalar instead, but in the future will perform elementwise comparison\n",
            "  score = y_true == y_pred\n"
          ]
        }
      ],
      "source": [
        "#Print overall accuracy\n",
        "from sklearn import metrics\n",
        "print (\"Accuracy = \", metrics.accuracy_score(y_test, test_prediction))\n",
        "poly_f1 = metrics.f1_score(le.inverse_transform(y_test), test_prediction, average='weighted')\n",
        "print('F1 (Polynomial Kernel): ', \"%.2f\" % (poly_f1*100))\n",
        "# #Print confusion matrix\n",
        "# from sklearn.metrics import confusion_matrix\n",
        "# cm = confusion_matrix(labels, test_prediction)\n",
        "\n",
        "# fig, ax = plt.subplots(figsize=(6,6))         # Sample figsize in inches\n",
        "# sns.set(font_scale=1.6)\n",
        "# sns.heatmap(cm, annot=True, ax=ax)"
      ]
    },
    {
      "cell_type": "code",
      "execution_count": null,
      "metadata": {
        "id": "h0IuAwO_Ca_0"
      },
      "outputs": [],
      "source": []
    },
    {
      "cell_type": "code",
      "execution_count": null,
      "metadata": {
        "colab": {
          "base_uri": "https://localhost:8080/",
          "height": 269
        },
        "id": "MIe24g9k5H-K",
        "outputId": "d1846953-ceb4-4d17-947e-4f833323c388"
      },
      "outputs": [
        {
          "data": {
            "image/png": "[encoded data removed]",
            "text/plain": [
              "<Figure size 432x288 with 1 Axes>"
            ]
          },
          "metadata": {},
          "output_type": "display_data"
        }
      ],
      "source": [
        "# img_sample= x_test[7].reshape(IMAGE_SIZE)\n",
        "# plt.imshow(img_sample,cmap='gray')\n",
        "# plt.show()"
      ]
    },
    {
      "cell_type": "code",
      "execution_count": null,
      "metadata": {
        "colab": {
          "base_uri": "https://localhost:8080/",
          "height": 427
        },
        "id": "18vTlpRtCbfk",
        "outputId": "30a00aac-9a33-45b5-ba55-46d9d51a6c8c"
      },
      "outputs": [
        {
          "output_type": "stream",
          "name": "stdout",
          "text": [
            "Gabor1 : theta= 0.0 : sigma= 1 : lamda= 0.7853981633974483 : gamma= 0.5\n",
            "Gabor2 : theta= 0.0 : sigma= 3 : lamda= 0.7853981633974483 : gamma= 0.5\n",
            "Gabor3 : theta= 0.7853981633974483 : sigma= 1 : lamda= 0.7853981633974483 : gamma= 0.5\n",
            "Gabor4 : theta= 0.7853981633974483 : sigma= 3 : lamda= 0.7853981633974483 : gamma= 0.5\n",
            "The prediction for this image is:  ['to']\n",
            "The actual label for this image is:  some\n"
          ]
        },
        {
          "output_type": "stream",
          "name": "stderr",
          "text": [
            "/usr/local/lib/python3.7/dist-packages/sklearn/preprocessing/_label.py:154: DataConversionWarning: A column-vector y was passed when a 1d array was expected. Please change the shape of y to (n_samples, ), for example using ravel().\n",
            "  y = column_or_1d(y, warn=True)\n"
          ]
        },
        {
          "output_type": "display_data",
          "data": {
            "text/plain": [
              "<Figure size 432x288 with 1 Axes>"
            ],
            "image/png": "[encoded data removed]"
          },
          "metadata": {
            "needs_background": "light"
          }
        }
      ],
      "source": [
        "#Check results on a few random images\n",
        "import random\n",
        "n=random.randint(0, x_test.shape[0]-1) #Select the index of image to be loaded for testing\n",
        "img = x_test[n]\n",
        "plt.imshow(img)\n",
        "\n",
        "#Extract features and reshape to right dimensions\n",
        "input_img = np.expand_dims(img, axis=0) #Expand dims so the input is (num images, x, y, c)\n",
        "input_img_features=feature_extractor(input_img)\n",
        "input_img_features = np.expand_dims(input_img_features, axis=0)\n",
        "input_img_for_RF = np.reshape(input_img_features, (input_img.shape[0], -1))\n",
        "#Predict\n",
        "img_prediction = RF_model.predict(input_img_for_RF)\n",
        "img_prediction = le.inverse_transform([img_prediction])  #Reverse the label encoder to original name\n",
        "print(\"The prediction for this image is: \", img_prediction)\n",
        "print(\"The actual label for this image is: \", labels[n])"
      ]
    }
  ],
  "metadata": {
    "colab": {
      "collapsed_sections": [],
      "provenance": []
    },
    "kernelspec": {
      "display_name": "Python 3",
      "name": "python3"
    },
    "language_info": {
      "name": "python"
    }
  },
  "nbformat": 4,
  "nbformat_minor": 0
}